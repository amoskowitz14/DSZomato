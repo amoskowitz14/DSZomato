{
 "cells": [
  {
   "cell_type": "code",
   "execution_count": 24,
   "metadata": {},
   "outputs": [],
   "source": [
    "import numpy as np \n",
    "import pandas as pd \n",
    "import matplotlib.pyplot as plt\n",
    "import seaborn as sns\n",
    "from tqdm import tqdm\n",
    "import re\n",
    "from matplotlib import rcParams\n",
    "import os\n"
   ]
  },
  {
   "cell_type": "code",
   "execution_count": 87,
   "metadata": {},
   "outputs": [],
   "source": [
    "import pandas as pd\n",
    "original = pd.read_csv('zomato.csv')\n",
    "data=pd.read_csv('zomato_cleaned.csv')\n",
    "\n",
    "# data.rename( columns={'Unnamed: 0':'rest_key'}, inplace=True )\n",
    "# data.head()"
   ]
  },
  {
   "cell_type": "code",
   "execution_count": 192,
   "metadata": {},
   "outputs": [],
   "source": [
    "# data[data.name == 'Addhuri Udupi Bhojana']\n",
    "\n",
    "# data.reviews_list =  data.reviews_list+\"]\"\n",
    "#print(data.reviews_list[1])\n",
    "# print(data.reviews_list[0])\n",
    "# list = original[original.name == \"#L-81 Cafe\"].reviews_list\n",
    "# for review in list:\n",
    "#     print(review, \"\\n\")\n",
    "# original[original.name == \"#L-81 Cafe\"].reviews_list"
   ]
  },
  {
   "cell_type": "markdown",
   "metadata": {},
   "source": [
    "#### Nik's function to clean up reviews"
   ]
  },
  {
   "cell_type": "code",
   "execution_count": 136,
   "metadata": {},
   "outputs": [],
   "source": [
    "import html\n",
    "def clean_review(review):\n",
    "    review = html.unescape(review)\n",
    "    review = review.encode().decode('unicode_escape')\n",
    "    review = review.replace(\"\\n\", \"\")\n",
    "    try:\n",
    "        review = ast.literal_eval(review)\n",
    "    except Exception as e:\n",
    "        review = review.strip('][')\n",
    "        review = review.strip('()')\n",
    "        review = review.split('), (')\n",
    "        try:\n",
    "            review = [(item[:11].strip(\"'\"), ' '.join(re.findall(r\"[\\w%\\-.']+\", item[14:-1].strip('\"')))) for item in review]\n",
    "        except Exception as e:\n",
    "            print(review)\n",
    "    return review"
   ]
  },
  {
   "cell_type": "markdown",
   "metadata": {},
   "source": [
    "#### The reviews_list column in the zomato_cleaned dataset is transformend in such a way that is not possible for me to parse out the [rating, review] tuples.\n",
    "#### What's interesting is that when I apply Nik's clean_review function to the original data set I do get properly formatter tuples, so I'm not sure what's happening with zomato_cleaned\n",
    "#### Below you can see the contents of the reviews_list in the first row of zomato_cleaned compared to the contents of the reviews_list in the original dataset as is and also after applying the clean_review() function"
   ]
  },
  {
   "cell_type": "code",
   "execution_count": 193,
   "metadata": {},
   "outputs": [
    {
     "name": "stdout",
     "output_type": "stream",
     "text": [
      "zomato_cleaned dataset:\n",
      "\n",
      " just came here before boarding the bus. This is totally open air,  ('Rated 5.0', [('Rated 4.0',  'RATED\\n  This little cafe is set in a very beautiful location and the ambiance was too good.\\nThe Burger was filled with taste and Chicken?\\nThe Banana Chocolate sandwich was a variety that you would never find in most of the restaurants in Bangalore. The drinks were wonderful and had lot of flavours to choose from.\\nIt took a little more time than expected for the food to be served in the table.\\nAll the dishes there seemed to be priced moderately and well.\\nFood : 4.3/5\\nAmbiance : 4.8/5\\nService : 4.2/5\\nTheir chefs are doing a brilliant job creating new dishes with a variety.\\nA wonderful place to be out with your friends.'),  especially comfortable at night. Staff are friendly. They didn't serve food that fast. But they are quite cheap and good for a bite.\\nCons: don't come if weather is not good. The toilets don't have lights.\\nI recommend the beetroot juice ??\"),  fresh air and the decent builtup style.\")],  Rose Falooda ,  ('Rated 4.0',  'RATED\\n  Such a nice place to hang out. Its an open space. You must visit this place in the night it looks awesome. All food items are very tasty. I had been with my friend and ordered onion pakoda ,  masala soda ,  'RATED\\n  Love the ambiance. Perfect way to spend your Sunday. The food is really good and value for money. Even the shakes are delicious. A must visit for nature lovers.'),  Corn sandwich and Chocolate sandwich. All items were so tasty. And I love to visit this place again and again.'),  \"RATED\\n  A cozy cafe near silk board,  icecream was usual but what won our hearts was the place,  \"RATED\\n  Such an amazing and beautiful place in the calm area of HSR. We usually comes here for office breaks. Hard to realise that #L-81 doesn't serves food but just snacks and shakes. Shakes were really well. Tried lassi and Dark Chocolate Ice-cream other day. Lassi was nice \n",
      "\n",
      "original:\n",
      "\n",
      "[('Rated 4.0', 'RATED\\n  This little cafe is set in a very beautiful location and the ambiance was too good.\\nThe Burger was filled with taste and Chicken?\\nThe Banana Chocolate sandwich was a variety that you would never find in most of the restaurants in Bangalore. The drinks were wonderful and had lot of flavours to choose from.\\nIt took a little more time than expected for the food to be served in the table.\\nAll the dishes there seemed to be priced moderately and well.\\nFood : 4.3/5\\nAmbiance : 4.8/5\\nService : 4.2/5\\nTheir chefs are doing a brilliant job creating new dishes with a variety.\\nA wonderful place to be out with your friends.'), ('Rated 4.0', \"RATED\\n  A cozy cafe near silk board, just came here before boarding the bus. This is totally open air, especially comfortable at night. Staff are friendly. They didn't serve food that fast. But they are quite cheap and good for a bite.\\nCons: don't come if weather is not good. The toilets don't have lights.\\nI recommend the beetroot juice ??\"), ('Rated 5.0', 'RATED\\n  Such a nice place to hang out. Its an open space. You must visit this place in the night it looks awesome. All food items are very tasty. I had been with my friend and ordered onion pakoda , masala soda , Rose Falooda , Corn sandwich and Chocolate sandwich. All items were so tasty. And I love to visit this place again and again.'), ('Rated 4.0', 'RATED\\n  Love the ambiance. Perfect way to spend your Sunday. The food is really good and value for money. Even the shakes are delicious. A must visit for nature lovers.'), ('Rated 4.0', \"RATED\\n  Such an amazing and beautiful place in the calm area of HSR. We usually comes here for office breaks. Hard to realise that #L-81 doesn't serves food but just snacks and shakes. Shakes were really well. Tried lassi and Dark Chocolate Ice-cream other day. Lassi was nice, icecream was usual but what won our hearts was the place, fresh air and the decent builtup style.\")] \n",
      "\n",
      "original after applying clean_review() function:\n",
      "\n",
      "[('Rated 4.0', 'RATED This little cafe is set in a very beautiful location and the ambiance was too good.The Burger was filled with taste and Chicken The Banana Chocolate sandwich was a variety that you would never find in most of the restaurants in Bangalore. The drinks were wonderful and had lot of flavours to choose from.It took a little more time than expected for the food to be served in the table.All the dishes there seemed to be priced moderately and well.Food 4.3 5Ambiance 4.8 5Service 4.2 5Their chefs are doing a brilliant job creating new dishes with a variety.A wonderful place to be out with your friends.'), ('Rated 4.0', \"RATED A cozy cafe near silk board just came here before boarding the bus. This is totally open air especially comfortable at night. Staff are friendly. They didn't serve food that fast. But they are quite cheap and good for a bite.Cons don't come if weather is not good. The toilets don't have lights.I recommend the beetroot juice\"), ('Rated 5.0', 'RATED Such a nice place to hang out. Its an open space. You must visit this place in the night it looks awesome. All food items are very tasty. I had been with my friend and ordered onion pakoda masala soda Rose Falooda Corn sandwich and Chocolate sandwich. All items were so tasty. And I love to visit this place again and again.'), ('Rated 4.0', 'RATED Love the ambiance. Perfect way to spend your Sunday. The food is really good and value for money. Even the shakes are delicious. A must visit for nature lovers.'), ('Rated 4.0', \"RATED Such an amazing and beautiful place in the calm area of HSR. We usually comes here for office breaks. Hard to realise that L-81 doesn't serves food but just snacks and shakes. Shakes were really well. Tried lassi and Dark Chocolate Ice-cream other day. Lassi was nice icecream was usual but what won our hearts was the place fresh air and the decent builtup style.\")] \n",
      "\n"
     ]
    }
   ],
   "source": [
    "print(\"zomato_cleaned dataset:\\n\")\n",
    "print(data.reviews_list[1], \"\\n\")\n",
    "\n",
    "print(\"original:\\n\", )\n",
    "print(original[original.name == \"#L-81 Cafe\"].reviews_list[10182],\"\\n\")\n",
    "\n",
    "print(\"original after applying clean_review() function:\\n\")\n",
    "print(clean_review(original[original.name == \"#L-81 Cafe\"].reviews_list[10182]), \"\\n\")"
   ]
  },
  {
   "cell_type": "code",
   "execution_count": 153,
   "metadata": {},
   "outputs": [
    {
     "name": "stdout",
     "output_type": "stream",
     "text": [
      "clean_dataset:\n",
      "\n",
      " ('Rated 5.0',  'RATED\\n  Had an amazing mouth-watering ?chicken roll?Worth every bite..A must try for every foodie?A variety of rolls and sandwiches are available as well .. A budding rafflesia ?')], [('Rated 5.0',  ('Rated 4.5',  'RATED\\n  Not just the Roll but the filling tastes great. I would highly recommend to others to try their rolls. Owners hospitality is also good and very friendly.'),  'RATED\\n  Very nice place complete value for money ? Highly recommend.Must visit for any foodie . I would recommend the egg chicken roll . #feeltheroll'),  \"RATED\\n  Had an egg chicken roll and a paneer roll... Really yummy... A must visit place... It would be good if you guys can keep the shop open on Sunday's as well.. Good luck... :-)\") \n",
      "\n",
      "original:\n",
      "\n",
      "[('Rated 5.0', \"RATED\\n  Had an egg chicken roll and a paneer roll... Really yummy... A must visit place... It would be good if you guys can keep the shop open on Sunday's as well.. Good luck... :-)\"), ('Rated 5.0', 'RATED\\n  Not just the Roll but the filling tastes great. I would highly recommend to others to try their rolls. Owners hospitality is also good and very friendly.'), ('Rated 4.5', 'RATED\\n  Very nice place complete value for money ? Highly recommend.Must visit for any foodie . I would recommend the egg chicken roll . #feeltheroll'), ('Rated 5.0', 'RATED\\n  Had an amazing mouth-watering ?chicken roll?Worth every bite..A must try for every foodie?A variety of rolls and sandwiches are available as well .. A budding rafflesia ?')] \n",
      "\n",
      "original after applying clean_review:\n",
      "\n",
      "[('Rated 5.0', \"RATED Had an egg chicken roll and a paneer roll... Really yummy... A must visit place... It would be good if you guys can keep the shop open on Sunday's as well.. Good luck... -\"), ('Rated 5.0', 'RATED Not just the Roll but the filling tastes great. I would highly recommend to others to try their rolls. Owners hospitality is also good and very friendly.'), ('Rated 4.5', 'RATED Very nice place complete value for money Highly recommend.Must visit for any foodie . I would recommend the egg chicken roll . feeltheroll'), ('Rated 5.0', 'RATED Had an amazing mouth-watering chicken roll Worth every bite..A must try for every foodie A variety of rolls and sandwiches are available as well .. A budding rafflesia')] \n",
      "\n"
     ]
    }
   ],
   "source": [
    "print(\"zomato_cleaned dataset:\\n\")\n",
    "print(data.reviews_list[0], \"\\n\")\n",
    "\n",
    "print(\"original:\\n\", )\n",
    "print(original[original.name == \"#FeelTheROLL\"].reviews_list[4321],\"\\n\")\n",
    "\n",
    "print(\"original after applying clean_review() function:\\n\")\n",
    "print(clean_review(original[original.name == \"#FeelTheROLL\"].reviews_list[4321]), \"\\n\")\n"
   ]
  },
  {
   "cell_type": "markdown",
   "metadata": {},
   "source": [
    "#### Another example with just one tuple"
   ]
  },
  {
   "cell_type": "code",
   "execution_count": 195,
   "metadata": {},
   "outputs": [
    {
     "name": "stdout",
     "output_type": "stream",
     "text": [
      "zomato_cleaned:\n",
      "\n",
      " \"RATED\\n  Great service and don't forget to try the Tomato Paneer from the kashmiri menu. Even the price we pay is worth the quantity and quality of the food\")], [('Rated 5.0' \n",
      "\n",
      "original:\n",
      "\n",
      "[('Rated 5.0', \"RATED\\n  Great service and don't forget to try the Tomato Paneer from the kashmiri menu. Even the price we pay is worth the quantity and quality of the food\")] \n",
      "\n",
      "original after applying clean_review() function:\n",
      "\n",
      "[('Rated 5.0', \"RATED Great service and don't forget to try the Tomato Paneer from the kashmiri menu. Even the price we pay is worth the quantity and quality of the food\")] \n",
      "\n"
     ]
    }
   ],
   "source": [
    "print(\"zomato_cleaned:\\n\")\n",
    "print(data.reviews_list[2],\"\\n\")\n",
    "\n",
    "print(\"original:\\n\")\n",
    "print(original[original.name == \"#Vibes Restro\"].reviews_list[13697], \"\\n\")\n",
    "\n",
    "print(\"original after applying clean_review() function:\\n\")\n",
    "print(clean_review(original[original.name == \"#Vibes Restro\"].reviews_list[13697]),\"\\n\")\n"
   ]
  },
  {
   "cell_type": "code",
   "execution_count": null,
   "metadata": {},
   "outputs": [],
   "source": []
  }
 ],
 "metadata": {
  "kernelspec": {
   "display_name": "Python 3",
   "language": "python",
   "name": "python3"
  },
  "language_info": {
   "codemirror_mode": {
    "name": "ipython",
    "version": 3
   },
   "file_extension": ".py",
   "mimetype": "text/x-python",
   "name": "python",
   "nbconvert_exporter": "python",
   "pygments_lexer": "ipython3",
   "version": "3.7.6"
  }
 },
 "nbformat": 4,
 "nbformat_minor": 4
}

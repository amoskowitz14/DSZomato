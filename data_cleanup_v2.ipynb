{
 "cells": [
  {
   "cell_type": "markdown",
   "metadata": {},
   "source": [
    "# Data Processing\n",
    "\n",
    "Returns "
   ]
  },
  {
   "cell_type": "code",
   "execution_count": 1,
   "metadata": {
    "ExecuteTime": {
     "end_time": "2020-07-24T18:32:36.870739Z",
     "start_time": "2020-07-24T18:32:16.263350Z"
    }
   },
   "outputs": [],
   "source": [
    "import pandas as pd\n",
    "import numpy as np\n",
    "import html\n",
    "import ast\n",
    "from pprint import pprint\n",
    "from tqdm import tqdm\n",
    "import re\n",
    "import json\n",
    "pd.set_option('display.max_rows', 20)\n",
    "pd.set_option('display.max_colwidth', 50)"
   ]
  },
  {
   "cell_type": "code",
   "execution_count": 2,
   "metadata": {},
   "outputs": [],
   "source": [
    "data = pd.read_csv('zomato.csv')"
   ]
  },
  {
   "cell_type": "markdown",
   "metadata": {},
   "source": [
    "## Determine How Deduplication Picks Records\n",
    "- Highest priority for the same listed_in and location\n",
    "- Second highest priority for more votes"
   ]
  },
  {
   "cell_type": "code",
   "execution_count": 3,
   "metadata": {},
   "outputs": [],
   "source": [
    "data['votes'] = data['votes'].astype(int)\n",
    "\n",
    "data['Consistent_Location'] = False\n",
    "data.loc[data['location'] == data['listed_in(city)'], 'Consistent_Location'] = True\n",
    "data = data.sort_values(by=['Consistent_Location','votes'], ascending = False)"
   ]
  },
  {
   "cell_type": "markdown",
   "metadata": {},
   "source": [
    "## Column String Cleanup"
   ]
  },
  {
   "cell_type": "code",
   "execution_count": 5,
   "metadata": {},
   "outputs": [
    {
     "name": "stdout",
     "output_type": "stream",
     "text": [
      "33\n"
     ]
    }
   ],
   "source": [
    "x = data['rate'].str.replace(' ', '').str.replace('/5', '').str.replace('NEW', '')\n",
    "\n",
    "print(len(x.groupby(x).size()))\n",
    "\n",
    "data['rate'] = data['rate'].str.replace(' ', '').str.replace('/5', '').str.replace('NEW', '')"
   ]
  },
  {
   "cell_type": "markdown",
   "metadata": {},
   "source": [
    "### Cleaning up reviews"
   ]
  },
  {
   "cell_type": "code",
   "execution_count": 6,
   "metadata": {
    "ExecuteTime": {
     "end_time": "2020-07-24T18:46:23.837062Z",
     "start_time": "2020-07-24T18:46:23.818564Z"
    }
   },
   "outputs": [],
   "source": [
    "def clean_review(review):\n",
    "    review = html.unescape(review)\n",
    "    review = review.encode().decode('unicode_escape')\n",
    "    review = review.replace(\"\\n\", \"\")\n",
    "    try:\n",
    "        review = ast.literal_eval(review)\n",
    "    except Exception as e:\n",
    "        review = review.strip('][')\n",
    "        review = review.strip('()')\n",
    "        review = review.split('), (')\n",
    "        try:\n",
    "            review = [(item[:11].strip(\"'\"), ' '.join(re.findall(r\"[\\w%\\-.']+\", item[14:-1].strip('\"')))) for item in review]\n",
    "        except Exception as e:\n",
    "            print(review)\n",
    "    return review"
   ]
  },
  {
   "cell_type": "code",
   "execution_count": 7,
   "metadata": {
    "ExecuteTime": {
     "end_time": "2020-07-24T18:46:24.494402Z",
     "start_time": "2020-07-24T18:46:24.257136Z"
    }
   },
   "outputs": [],
   "source": [
    "for column in list(data.columns.values):\n",
    "    data[column] = data[column].apply(str)"
   ]
  },
  {
   "cell_type": "code",
   "execution_count": 8,
   "metadata": {
    "ExecuteTime": {
     "end_time": "2020-07-24T18:46:24.649887Z",
     "start_time": "2020-07-24T18:46:24.633127Z"
    }
   },
   "outputs": [],
   "source": [
    "data_url_review = data[['url', 'name','address','reviews_list']]"
   ]
  },
  {
   "cell_type": "code",
   "execution_count": 9,
   "metadata": {
    "ExecuteTime": {
     "end_time": "2020-07-24T18:46:26.184042Z",
     "start_time": "2020-07-24T18:46:26.167642Z"
    }
   },
   "outputs": [
    {
     "data": {
      "text/plain": [
       "'[(\\'Rated 3.0\\', \"RATED\\\\n  Ambience is not that good enough and it\\'s not a pocket friendly cafe and the quantity is not that good and desserts are too good enough ??..\"), (\\'Rated 3.0\\', \"RATED\\\\n \\\\nWent there for a quick bite with friends.\\\\nThe ambience had more of corporate feel. I would say it was unique.\\\\nTried nachos, pasta churros and lasagne.\\\\n\\\\nNachos were pathetic.( Seriously don\\'t order)\\\\nPasta was okayish.\\\\nLasagne was good.\\\\nNutella churros were the best.\\\\nOverall an okayish experience!\\\\nPeace ??\"), (\\'Rated 4.0\\', \"RATED\\\\n  First of all, a big thanks to the staff of this Cafe. Very polite and courteous.\\\\n\\\\nI was there 15mins before their closing time. Without any discomfort or hesitation, the staff welcomed me with a warm smile and said they\\'re still open, though they were preparing to close the cafe for the day.\\\\n\\\\nQuickly ordered the Thai green curry, which is served with rice. They got it for me within 10mins, hot and freshly made.\\\\n\\\\nIt was tasty with the taste of coconut milk. Not very spicy, it was mild spicy.\\\\n\\\\nI saw they had yummy looking dessert menu, should go there to try them out!\\\\n\\\\nA good spacious place to hang out for coffee, pastas, pizza or Thai food.\"), (\\'Rated 3.0\\', \"RATED\\\\n  A place for people who love churos. Otherwise it\\'s a normal simple cafe like any other in town . Can go and spend the evening there . The positive being it is one of the better cafes in and around Banashankari and also the place is not very crowded .\"), (\\'Rated 3.0\\', \\'RATED\\\\n  Have been visiting this place since years. The quality has gone down drastically. Food quality has become very average from good. Service is also very bad of late.\\'), (\\'Rated 1.0\\', \\'RATED\\\\n  Really disappointed with the place.\\\\n\\\\nSeems like a old dusty store room stacked up with old sofas and chairs! The decor is soo disappointing that I cannot put it in words!\\\\nLastly the food was cherry on the cake to make it a complete worse meal.\\\\n\\\\nThis place is the last option you should ever consider.\\'), (\\'Rated 3.0\\', \\'RATED\\\\n  Congested atmosphere due to smoke from kitchen\\\\nAmbience was k\\\\nService was k .\\\\nChuros was a new experience recommended\\\\nNear to kims . Parking was not der\\'), (\\'Rated 1.0\\', \"RATED\\\\n  Cockroaches !! I Repeat cockroaches!!Bakasura was disappointed.\\\\nBeing in Banashankari, being a gold outlet and nesting them? who can even think of that. Thankfully it wasn\\'t over bakasura\\'s plate. The ambience was last cleaned a decade back i guess. A cockroach just walked over our table. As it was alive, and well moving , the bakasura couldnt take a pic of it. Then the staff had to actually take it out of our table. Such ambience ? like what are you upto?\\\\n\\\\nBakasura disapproves. I dont even want to talk about the food.\"), (\\'Rated 4.0\\', \\'RATED\\\\n  A nice place to hangout, this place looks professional and also cute. If anyone is trying churros for the first the time, this is the place to go. Cheesecake is pretty amazing too.\\\\nRecommended.\\'), (\\'Rated 4.0\\', \\'RATED\\\\n  1) pizza mocktails shakes and churros really very good\\\\n2) staff good\\\\n3) ambience simple and nice good\\\\n4) location of San churro cafe very nice\\\\n5) over San churro cafe good....\\'), (\\'Rated 3.0\\', \"RATED\\\\n  One of my favourite places that I often visit in South bangalore , but quality has been reduced than before. Little unhappy with the food this time.\\\\nBut their churros never dissapointed me. Staff are too slow and do not respond easily.\\\\n\\\\nSoups:\\\\nMinestrone soup was like vegetable stock water with vegetables in it, not happy with it.\\\\n\\\\nChurros :\\\\nIt was great as usual. A must visit place if u love churros.\\\\n\\\\nStarters:\\\\n1. Africano panner -\\\\nIt was bit sweet and not happy with the dish!!\\\\n2. Loaded nachos -\\\\nThis happened to be their one of the best dishes, but now I take back my words. Very dissapointed with the dish.\\\\n\\\\nMain course:\\\\nsicilia pizza\\\\nPizza was too good, it\\'s a must try dish.\\\\n\\\\nFinally I would recommend this place for churros and pizza .\\\\n\\\\nTaste : 6/10\\\\nAmbience :7/10\\\\nValue for money : 8/10\\\\n\\\\nOverall experience : 7.5/10\"), (\\'Rated 4.0\\', \\'RATED\\\\n  Visited this place long before, place come to.notice with the decoration lights outside the cafe. We ordered churos, pizza and hot chocolate, all were good just I little priced more.\\'), (\\'Rated 4.0\\', \\'RATED\\\\n  Spain pictures of Churros triggered Nostalgia about it , which led to Google search for Churro places in city , lucky we to get the result as San Churro cafe , we had an delectable churros here along with hot chocolate and Nachos ! Thanks for fulfilling our thirst of Spanish Churros !\\\\nFood : ???\\\\nChurros ???\\\\nHot Chocolate ?\\\\nNachos ??\\\\n\\\\nService : ??\\\\n\\\\nAmbiance : ?\\\\n\\\\nCleanliness : ??\\\\n\\\\nOne drawback : Store had some flies, I hope they take care of them for our next tour ?\\'), (\\'Rated 3.0\\', \\'RATED\\\\n  Ã\\x83\\\\x83Ã\\x82\\\\x83Ã\\x83\\\\x82Ã\\x82\\\\x82Ã\\x83\\\\x83Ã\\x82\\\\x82Ã\\x83\\\\x82Ã\\x82\\\\x93Chocolaty and churroic experienceÃ\\x83\\\\x83Ã\\x82\\\\x83Ã\\x83\\\\x82Ã\\x82\\\\x82Ã\\x83\\\\x83Ã\\x82\\\\x82Ã\\x83\\\\x82Ã\\x82\\\\x94\\\\n\\\\nHit chocolate and churro with chocolate dip in the picture.\\\\n\\\\nMy first time at this restaurant and it has delivered in service, options as well as taste.\\'), (\\'Rated 4.0\\', \\'RATED\\\\n  Though very sadly the place looks in need of retouching, but the food was great! Especially when it was super cold outside and we were super hungry, the staff was nice. We ordered the pink pasta and a pizza. Both of them were pretty good. Was really tempted to try their Churros but we were stuffed. Worth a visit and try for sure!\\'), (\\'Rated 3.0\\', \"RATED\\\\n  Churros, the restaurant\\'s eponymous offering, has to be tried. They\\'re a Mexican snack and served with chocolate sauce. Milkshakes are good too. The interior walls have murals and writings all over. Haven\\'t tried the pizzas here but the cakes and pastries were pretty good.\"), (\\'Rated 3.0\\', \"RATED\\\\n  Honestly, have only tried parcels and that too only starters and mains - never tried desserts. So this review is based on starters and mains only. The quality wasn\\'t all that great, was pretty average.\"), (\\'Rated 4.0\\', \"RATED\\\\n  Visited this place for the first time, recently. The ambience was pretty good. We ordered two \\'churros for two\\'. Having churros for the first time ever, I was way too excited and judgmental. But swear to Lord, the churros were heavenly! The chocolate sauce was the actual chocolate sauce and not nutella xD We had taken the Cross Country Ranch pizza. It was a thin crust pizza loaded with veggies.\\\\nThe place is famous for churros (the name suggests so). I would love to visit again to try all the other items out :\\')\"), (\\'Rated 4.0\\', \\'RATED\\\\n  I love the desserts more than anything here !Good place and well served !:)\\\\nWe dint like the nachos here , it was not that good as we expected !\\\\nExcept nachos almost all dish were quite good!\\'), (\\'Rated 2.0\\', \"RATED\\\\n  2nd time I have visited this place and I am surprised to see how it has declined. Churros was hard, pizza was pathetic, loaded nachos and masala Garlic bread were topped with cheese with MAYO! Yes mayonnese.. Soup has the bread crumbs in almost melted state, mocktails were average and our only Savior was pasta and caramel pudding... This place has high potential but let down by dull ambience, pretty slow and inattentive staff. Buffet price was listed as 399 but was charged 499, We still went ahead and took the deal to be very disappointed!! Most dishes were freshly cooked hence going with some starts else would rate them lower. I did not find a single person who seemed happy with their meal as moat complained about one thing or the other. That\\'ll be my last visit San Churros.\")]'"
      ]
     },
     "execution_count": 9,
     "metadata": {},
     "output_type": "execute_result"
    }
   ],
   "source": [
    "data_url_review.reviews_list[2]"
   ]
  },
  {
   "cell_type": "markdown",
   "metadata": {},
   "source": [
    "### Removing Duplicates"
   ]
  },
  {
   "cell_type": "code",
   "execution_count": 10,
   "metadata": {
    "ExecuteTime": {
     "end_time": "2020-07-24T18:46:29.937616Z",
     "start_time": "2020-07-24T18:46:27.729770Z"
    }
   },
   "outputs": [],
   "source": [
    "data_cleaned = data.groupby(['name', 'address']).agg({'online_order' : ','.join,\n",
    "         'book_table' : ','.join,\n",
    "         'rate': ','.join,\n",
    "         'votes': ','.join,\n",
    "         'location': ','.join, \n",
    "         'rest_type': ','.join,\n",
    "         'dish_liked': ','.join,\n",
    "         'cuisines': ','.join,\n",
    "         'approx_cost(for two people)': ','.join,\n",
    "         'menu_item': ','.join,\n",
    "         'listed_in(city)': ','.join,\n",
    "         'listed_in(type)': ','.join}).reset_index()"
   ]
  },
  {
   "cell_type": "code",
   "execution_count": 11,
   "metadata": {
    "ExecuteTime": {
     "end_time": "2020-07-24T18:46:30.018201Z",
     "start_time": "2020-07-24T18:46:29.939590Z"
    }
   },
   "outputs": [
    {
     "data": {
      "text/html": [
       "<div>\n",
       "<style scoped>\n",
       "    .dataframe tbody tr th:only-of-type {\n",
       "        vertical-align: middle;\n",
       "    }\n",
       "\n",
       "    .dataframe tbody tr th {\n",
       "        vertical-align: top;\n",
       "    }\n",
       "\n",
       "    .dataframe thead th {\n",
       "        text-align: right;\n",
       "    }\n",
       "</style>\n",
       "<table border=\"1\" class=\"dataframe\">\n",
       "  <thead>\n",
       "    <tr style=\"text-align: right;\">\n",
       "      <th></th>\n",
       "      <th>name</th>\n",
       "      <th>address</th>\n",
       "      <th>online_order</th>\n",
       "      <th>book_table</th>\n",
       "      <th>rate</th>\n",
       "      <th>votes</th>\n",
       "      <th>location</th>\n",
       "      <th>rest_type</th>\n",
       "      <th>dish_liked</th>\n",
       "      <th>cuisines</th>\n",
       "      <th>approx_cost(for two people)</th>\n",
       "      <th>menu_item</th>\n",
       "      <th>listed_in(city)</th>\n",
       "      <th>listed_in(type)</th>\n",
       "    </tr>\n",
       "  </thead>\n",
       "  <tbody>\n",
       "    <tr>\n",
       "      <th>0</th>\n",
       "      <td>#FeelTheROLL</td>\n",
       "      <td>Opposite Mantri Commercio, Outer Ring Road, De...</td>\n",
       "      <td>No,No</td>\n",
       "      <td>No,No</td>\n",
       "      <td>3.4,3.4</td>\n",
       "      <td>7,7</td>\n",
       "      <td>Bellandur,Bellandur</td>\n",
       "      <td>Quick Bites,Quick Bites</td>\n",
       "      <td>nan,nan</td>\n",
       "      <td>Fast Food,Fast Food</td>\n",
       "      <td>200,200</td>\n",
       "      <td>[],[]</td>\n",
       "      <td>Bellandur,Sarjapur Road</td>\n",
       "      <td>Delivery,Delivery</td>\n",
       "    </tr>\n",
       "    <tr>\n",
       "      <th>1</th>\n",
       "      <td>#L-81 Cafe</td>\n",
       "      <td>Sector 6, HSR Layout, HSR</td>\n",
       "      <td>Yes,Yes,Yes,Yes,Yes,Yes,Yes,Yes,Yes</td>\n",
       "      <td>No,No,No,No,No,No,No,No,No</td>\n",
       "      <td>3.9,3.9,3.9,3.9,3.9,3.9,3.9,3.9,3.9</td>\n",
       "      <td>48,48,48,48,48,48,48,48,48</td>\n",
       "      <td>HSR,HSR,HSR,HSR,HSR,HSR,HSR,HSR,HSR</td>\n",
       "      <td>Quick Bites,Quick Bites,Quick Bites,Quick Bite...</td>\n",
       "      <td>Burgers,Burgers,Burgers,Burgers,Burgers,Burger...</td>\n",
       "      <td>Fast Food, Beverages,Fast Food, Beverages,Fast...</td>\n",
       "      <td>400,400,400,400,400,400,400,400,400</td>\n",
       "      <td>[],[],[],[],[],[],[],[],[]</td>\n",
       "      <td>HSR,HSR,BTM,BTM,Koramangala 4th Block,Koramang...</td>\n",
       "      <td>Delivery,Dine-out,Delivery,Dine-out,Delivery,D...</td>\n",
       "    </tr>\n",
       "    <tr>\n",
       "      <th>2</th>\n",
       "      <td>#Vibes Restro</td>\n",
       "      <td>Marasur Gate, Chandapura - Anekal Road, Near A...</td>\n",
       "      <td>No,No,No</td>\n",
       "      <td>No,No,No</td>\n",
       "      <td>nan,nan,nan</td>\n",
       "      <td>0,0,0</td>\n",
       "      <td>Electronic City,Electronic City,Electronic City</td>\n",
       "      <td>Casual Dining,Casual Dining,Casual Dining</td>\n",
       "      <td>nan,nan,nan</td>\n",
       "      <td>Continental, Chinese, Italian,Continental, Chi...</td>\n",
       "      <td>700,700,700</td>\n",
       "      <td>[],[],[]</td>\n",
       "      <td>Electronic City,Electronic City,Electronic City</td>\n",
       "      <td>Buffet,Delivery,Dine-out</td>\n",
       "    </tr>\n",
       "    <tr>\n",
       "      <th>3</th>\n",
       "      <td>#refuel</td>\n",
       "      <td>7, Ground Floor, RR Commercial Complex, Akshay...</td>\n",
       "      <td>Yes,Yes,Yes</td>\n",
       "      <td>No,No,No</td>\n",
       "      <td>3.7,3.7,3.7</td>\n",
       "      <td>37,37,37</td>\n",
       "      <td>Bannerghatta Road,Bannerghatta Road,Bannerghat...</td>\n",
       "      <td>Cafe,Cafe,Cafe</td>\n",
       "      <td>Thick Shakes, Sandwiches, Pasta, Mocktails,Thi...</td>\n",
       "      <td>Cafe, Beverages,Cafe, Beverages,Cafe, Beverages</td>\n",
       "      <td>400,400,400</td>\n",
       "      <td>['Kit Kat Thick Shake', 'Ferrero Rocher Thick ...</td>\n",
       "      <td>Bannerghatta Road,Bannerghatta Road,Bannerghat...</td>\n",
       "      <td>Cafes,Delivery,Dine-out</td>\n",
       "    </tr>\n",
       "    <tr>\n",
       "      <th>4</th>\n",
       "      <td>'Brahmins' Thatte Idli</td>\n",
       "      <td>19, 1st main, 2nd cross, 3rd stage, 3rd block,...</td>\n",
       "      <td>Yes</td>\n",
       "      <td>No</td>\n",
       "      <td>nan</td>\n",
       "      <td>0</td>\n",
       "      <td>Basaveshwara Nagar</td>\n",
       "      <td>Quick Bites</td>\n",
       "      <td>nan</td>\n",
       "      <td>South Indian</td>\n",
       "      <td>100</td>\n",
       "      <td>['Masala Dosa', 'Set Dosa', 'Shavige Bhath', '...</td>\n",
       "      <td>Rajajinagar</td>\n",
       "      <td>Dine-out</td>\n",
       "    </tr>\n",
       "  </tbody>\n",
       "</table>\n",
       "</div>"
      ],
      "text/plain": [
       "                     name                                            address  \\\n",
       "0            #FeelTheROLL  Opposite Mantri Commercio, Outer Ring Road, De...   \n",
       "1              #L-81 Cafe                          Sector 6, HSR Layout, HSR   \n",
       "2           #Vibes Restro  Marasur Gate, Chandapura - Anekal Road, Near A...   \n",
       "3                 #refuel  7, Ground Floor, RR Commercial Complex, Akshay...   \n",
       "4  'Brahmins' Thatte Idli  19, 1st main, 2nd cross, 3rd stage, 3rd block,...   \n",
       "\n",
       "                          online_order                  book_table  \\\n",
       "0                                No,No                       No,No   \n",
       "1  Yes,Yes,Yes,Yes,Yes,Yes,Yes,Yes,Yes  No,No,No,No,No,No,No,No,No   \n",
       "2                             No,No,No                    No,No,No   \n",
       "3                          Yes,Yes,Yes                    No,No,No   \n",
       "4                                  Yes                          No   \n",
       "\n",
       "                                  rate                       votes  \\\n",
       "0                              3.4,3.4                         7,7   \n",
       "1  3.9,3.9,3.9,3.9,3.9,3.9,3.9,3.9,3.9  48,48,48,48,48,48,48,48,48   \n",
       "2                          nan,nan,nan                       0,0,0   \n",
       "3                          3.7,3.7,3.7                    37,37,37   \n",
       "4                                  nan                           0   \n",
       "\n",
       "                                            location  \\\n",
       "0                                Bellandur,Bellandur   \n",
       "1                HSR,HSR,HSR,HSR,HSR,HSR,HSR,HSR,HSR   \n",
       "2    Electronic City,Electronic City,Electronic City   \n",
       "3  Bannerghatta Road,Bannerghatta Road,Bannerghat...   \n",
       "4                                 Basaveshwara Nagar   \n",
       "\n",
       "                                           rest_type  \\\n",
       "0                            Quick Bites,Quick Bites   \n",
       "1  Quick Bites,Quick Bites,Quick Bites,Quick Bite...   \n",
       "2          Casual Dining,Casual Dining,Casual Dining   \n",
       "3                                     Cafe,Cafe,Cafe   \n",
       "4                                        Quick Bites   \n",
       "\n",
       "                                          dish_liked  \\\n",
       "0                                            nan,nan   \n",
       "1  Burgers,Burgers,Burgers,Burgers,Burgers,Burger...   \n",
       "2                                        nan,nan,nan   \n",
       "3  Thick Shakes, Sandwiches, Pasta, Mocktails,Thi...   \n",
       "4                                                nan   \n",
       "\n",
       "                                            cuisines  \\\n",
       "0                                Fast Food,Fast Food   \n",
       "1  Fast Food, Beverages,Fast Food, Beverages,Fast...   \n",
       "2  Continental, Chinese, Italian,Continental, Chi...   \n",
       "3    Cafe, Beverages,Cafe, Beverages,Cafe, Beverages   \n",
       "4                                       South Indian   \n",
       "\n",
       "           approx_cost(for two people)  \\\n",
       "0                              200,200   \n",
       "1  400,400,400,400,400,400,400,400,400   \n",
       "2                          700,700,700   \n",
       "3                          400,400,400   \n",
       "4                                  100   \n",
       "\n",
       "                                           menu_item  \\\n",
       "0                                              [],[]   \n",
       "1                         [],[],[],[],[],[],[],[],[]   \n",
       "2                                           [],[],[]   \n",
       "3  ['Kit Kat Thick Shake', 'Ferrero Rocher Thick ...   \n",
       "4  ['Masala Dosa', 'Set Dosa', 'Shavige Bhath', '...   \n",
       "\n",
       "                                     listed_in(city)  \\\n",
       "0                            Bellandur,Sarjapur Road   \n",
       "1  HSR,HSR,BTM,BTM,Koramangala 4th Block,Koramang...   \n",
       "2    Electronic City,Electronic City,Electronic City   \n",
       "3  Bannerghatta Road,Bannerghatta Road,Bannerghat...   \n",
       "4                                        Rajajinagar   \n",
       "\n",
       "                                     listed_in(type)  \n",
       "0                                  Delivery,Delivery  \n",
       "1  Delivery,Dine-out,Delivery,Dine-out,Delivery,D...  \n",
       "2                           Buffet,Delivery,Dine-out  \n",
       "3                            Cafes,Delivery,Dine-out  \n",
       "4                                           Dine-out  "
      ]
     },
     "execution_count": 11,
     "metadata": {},
     "output_type": "execute_result"
    }
   ],
   "source": [
    "data_cleaned.head()"
   ]
  },
  {
   "cell_type": "markdown",
   "metadata": {},
   "source": [
    "### Adding url and reviews"
   ]
  },
  {
   "cell_type": "code",
   "execution_count": 12,
   "metadata": {
    "ExecuteTime": {
     "end_time": "2020-07-24T18:46:48.249067Z",
     "start_time": "2020-07-24T18:46:48.094772Z"
    }
   },
   "outputs": [],
   "source": [
    "data_cleaned = data_cleaned.merge(data_url_review, how='left', on=['name', 'address']).drop_duplicates(['address','name'])"
   ]
  },
  {
   "cell_type": "code",
   "execution_count": 13,
   "metadata": {
    "ExecuteTime": {
     "end_time": "2020-07-24T18:48:10.776298Z",
     "start_time": "2020-07-24T18:48:10.753117Z"
    }
   },
   "outputs": [
    {
     "data": {
      "text/plain": [
       "'url'"
      ]
     },
     "execution_count": 13,
     "metadata": {},
     "output_type": "execute_result"
    }
   ],
   "source": [
    "columns = list(data_cleaned.columns.values)\n",
    "columns.pop()\n",
    "columns.pop()"
   ]
  },
  {
   "cell_type": "markdown",
   "metadata": {},
   "source": [
    "### Taking Highest Priority Row Value or Combining Values"
   ]
  },
  {
   "cell_type": "code",
   "execution_count": 14,
   "metadata": {},
   "outputs": [
    {
     "data": {
      "text/html": [
       "<div>\n",
       "<style scoped>\n",
       "    .dataframe tbody tr th:only-of-type {\n",
       "        vertical-align: middle;\n",
       "    }\n",
       "\n",
       "    .dataframe tbody tr th {\n",
       "        vertical-align: top;\n",
       "    }\n",
       "\n",
       "    .dataframe thead th {\n",
       "        text-align: right;\n",
       "    }\n",
       "</style>\n",
       "<table border=\"1\" class=\"dataframe\">\n",
       "  <thead>\n",
       "    <tr style=\"text-align: right;\">\n",
       "      <th></th>\n",
       "      <th>name</th>\n",
       "      <th>address</th>\n",
       "      <th>online_order</th>\n",
       "      <th>book_table</th>\n",
       "      <th>rate</th>\n",
       "      <th>votes</th>\n",
       "      <th>location</th>\n",
       "      <th>rest_type</th>\n",
       "      <th>dish_liked</th>\n",
       "      <th>cuisines</th>\n",
       "      <th>approx_cost(for two people)</th>\n",
       "      <th>menu_item</th>\n",
       "      <th>listed_in(city)</th>\n",
       "      <th>listed_in(type)</th>\n",
       "      <th>url</th>\n",
       "      <th>reviews_list</th>\n",
       "    </tr>\n",
       "  </thead>\n",
       "  <tbody>\n",
       "    <tr>\n",
       "      <th>0</th>\n",
       "      <td>#FeelTheROLL</td>\n",
       "      <td>Opposite Mantri Commercio, Outer Ring Road, De...</td>\n",
       "      <td>No,No</td>\n",
       "      <td>No,No</td>\n",
       "      <td>3.4,3.4</td>\n",
       "      <td>7,7</td>\n",
       "      <td>Bellandur,Bellandur</td>\n",
       "      <td>Quick Bites,Quick Bites</td>\n",
       "      <td>nan,nan</td>\n",
       "      <td>Fast Food,Fast Food</td>\n",
       "      <td>200,200</td>\n",
       "      <td>[],[]</td>\n",
       "      <td>Bellandur,Sarjapur Road</td>\n",
       "      <td>Delivery,Delivery</td>\n",
       "      <td>https://www.zomato.com/bangalore/feeltheroll-b...</td>\n",
       "      <td>[('Rated 5.0', \"RATED\\n  Had an egg chicken ro...</td>\n",
       "    </tr>\n",
       "  </tbody>\n",
       "</table>\n",
       "</div>"
      ],
      "text/plain": [
       "           name                                            address  \\\n",
       "0  #FeelTheROLL  Opposite Mantri Commercio, Outer Ring Road, De...   \n",
       "\n",
       "  online_order book_table     rate votes             location  \\\n",
       "0        No,No      No,No  3.4,3.4   7,7  Bellandur,Bellandur   \n",
       "\n",
       "                 rest_type dish_liked             cuisines  \\\n",
       "0  Quick Bites,Quick Bites    nan,nan  Fast Food,Fast Food   \n",
       "\n",
       "  approx_cost(for two people) menu_item          listed_in(city)  \\\n",
       "0                     200,200     [],[]  Bellandur,Sarjapur Road   \n",
       "\n",
       "     listed_in(type)                                                url  \\\n",
       "0  Delivery,Delivery  https://www.zomato.com/bangalore/feeltheroll-b...   \n",
       "\n",
       "                                        reviews_list  \n",
       "0  [('Rated 5.0', \"RATED\\n  Had an egg chicken ro...  "
      ]
     },
     "execution_count": 14,
     "metadata": {},
     "output_type": "execute_result"
    }
   ],
   "source": [
    "data_cleaned.head(1)"
   ]
  },
  {
   "cell_type": "code",
   "execution_count": 15,
   "metadata": {},
   "outputs": [],
   "source": [
    "def leading_char_removal(entry, char):\n",
    "    try:\n",
    "        if entry[0] == char:\n",
    "            entry = entry[1:]\n",
    "    except IndexError:\n",
    "        pass\n",
    "    \n",
    "    try:\n",
    "        if entry[-1] == char:\n",
    "            entry = entry[:-1]\n",
    "    except IndexError:\n",
    "        pass\n",
    "    \n",
    "    return(entry)"
   ]
  },
  {
   "cell_type": "code",
   "execution_count": 17,
   "metadata": {},
   "outputs": [],
   "source": [
    "def Diff(li1, li2): \n",
    "    return (list(set(li1) - set(li2)))\n",
    "\n",
    "columns_first = ['online_order', 'book_table','rate','votes','location','approx_cost(for two people)']\n",
    "columns_merge = Diff(columns, columns_first)\n",
    "\n",
    "columns_merge.remove('address')"
   ]
  },
  {
   "cell_type": "code",
   "execution_count": 20,
   "metadata": {},
   "outputs": [
    {
     "data": {
      "text/plain": [
       "['listed_in(city)',\n",
       " 'rest_type',\n",
       " 'menu_item',\n",
       " 'dish_liked',\n",
       " 'listed_in(type)',\n",
       " 'cuisines']"
      ]
     },
     "execution_count": 20,
     "metadata": {},
     "output_type": "execute_result"
    }
   ],
   "source": [
    "columns_merge"
   ]
  },
  {
   "cell_type": "code",
   "execution_count": 21,
   "metadata": {},
   "outputs": [],
   "source": [
    "def clean_dup_entry_first(entry):\n",
    "    entry = leading_char_removal(entry, ',')\n",
    "    entry = entry.split(',')\n",
    "    entry = list(set(entry))\n",
    "    \n",
    "    new_entry = list()\n",
    "    for item in entry:\n",
    "        item = item.strip()\n",
    "        item = leading_char_removal(item, ',')\n",
    "        item = leading_char_removal(item, '[')\n",
    "        item = leading_char_removal(item, ']')\n",
    "        \n",
    "        new_entry.append(item)\n",
    "    entry = new_entry\n",
    "    \n",
    "    entry = entry[0]\n",
    "    return entry"
   ]
  },
  {
   "cell_type": "code",
   "execution_count": 22,
   "metadata": {
    "ExecuteTime": {
     "end_time": "2020-07-24T18:48:52.278829Z",
     "start_time": "2020-07-24T18:48:51.763119Z"
    }
   },
   "outputs": [
    {
     "name": "stdout",
     "output_type": "stream",
     "text": [
      "Cleaning Data in ['name', 'address', 'online_order', 'book_table', 'rate', 'votes', 'location', 'rest_type', 'dish_liked', 'cuisines', 'approx_cost(for two people)', 'menu_item', 'listed_in(city)', 'listed_in(type)']\n"
     ]
    }
   ],
   "source": [
    "def clean_dup_entry(entry):\n",
    "    entry = leading_char_removal(entry, ',')\n",
    "    entry = entry.split(',')\n",
    "    entry = list(set(entry))\n",
    "    \n",
    "    new_entry = list()\n",
    "    for item in entry:\n",
    "        item = item.strip()\n",
    "        item = leading_char_removal(item, ',')\n",
    "        item = leading_char_removal(item, '[')\n",
    "        item = leading_char_removal(item, ']')\n",
    "        \n",
    "        new_entry.append(item)\n",
    "    entry = new_entry\n",
    "    entry = list(set(entry))\n",
    "    try:\n",
    "        entry.remove('')\n",
    "    except ValueError:\n",
    "        pass\n",
    "    entry = ','.join(entry)\n",
    "    return entry\n",
    "\n",
    "\n",
    "print('Cleaning Data in', columns)\n",
    "\n",
    "for column in columns_merge:\n",
    "    data_cleaned[column] = data_cleaned[column].apply(clean_dup_entry)\n",
    "    \n",
    "for column in columns_first:\n",
    "    data_cleaned[column] = data_cleaned[column].apply(clean_dup_entry_first)"
   ]
  },
  {
   "cell_type": "code",
   "execution_count": 23,
   "metadata": {},
   "outputs": [],
   "source": [
    "def remove_comma(item):\n",
    "    item = leading_char_removal(item, ',')\n",
    "    return(item)\n",
    "\n",
    "data_cleaned['menu_item'] = data_cleaned['menu_item'].apply(remove_comma)"
   ]
  },
  {
   "cell_type": "code",
   "execution_count": 24,
   "metadata": {
    "ExecuteTime": {
     "end_time": "2020-07-24T18:48:53.108420Z",
     "start_time": "2020-07-24T18:48:53.040344Z"
    }
   },
   "outputs": [],
   "source": [
    "data_cleaned = data_cleaned.replace('nan', np.NaN)"
   ]
  },
  {
   "cell_type": "code",
   "execution_count": 48,
   "metadata": {},
   "outputs": [],
   "source": [
    "def data_cleaning_review(data_cleaned, row_view: int = 10):\n",
    "    print('Columns:', data_cleaned.columns.values,'\\n')\n",
    "    print('With rows of', len(data_cleaned), '\\n')\n",
    "    for col in data_cleaned.columns.values:\n",
    "        print('---------------Column of:', col, '---')\n",
    "        print('Dtype of', data_cleaned[col].dtypes )\n",
    "\n",
    "        x = data_cleaned[col]\n",
    "        x = x.groupby(x).size().sort_values()\n",
    "        print('Number of Unique Values:', len(x))\n",
    "\n",
    "        print('\\n First 5 Items', x.head(row_view),'\\n')\n",
    "        print('Last 5 Items', x.tail(row_view))\n",
    "\n",
    "        print('\\n')\n",
    "        \n",
    "data_cleaning_review(data_cleaned, row_view = 10)"
   ]
  },
  {
   "cell_type": "markdown",
   "metadata": {},
   "source": [
    "## Convert Merged Strings"
   ]
  },
  {
   "cell_type": "markdown",
   "metadata": {},
   "source": [
    "#### online_order"
   ]
  },
  {
   "cell_type": "code",
   "execution_count": 33,
   "metadata": {},
   "outputs": [],
   "source": [
    "# data_cleaned['online_order'] = data_cleaned['online_order'].replace('Yes,No', 'Yes')\n",
    "data_cleaned['online_order'] = data_cleaned['online_order'].replace('Yes', 1).replace('No', 0).astype('bool')"
   ]
  },
  {
   "cell_type": "code",
   "execution_count": 34,
   "metadata": {},
   "outputs": [
    {
     "data": {
      "text/plain": [
       "online_order\n",
       "False    6187\n",
       "True     6312\n",
       "Name: online_order, dtype: int64"
      ]
     },
     "execution_count": 34,
     "metadata": {},
     "output_type": "execute_result"
    }
   ],
   "source": [
    "x = data_cleaned['online_order']\n",
    "x.groupby(x).size()"
   ]
  },
  {
   "cell_type": "markdown",
   "metadata": {},
   "source": [
    "#### rate"
   ]
  },
  {
   "cell_type": "code",
   "execution_count": 35,
   "metadata": {},
   "outputs": [
    {
     "data": {
      "text/plain": [
       "array([1.8, 2. , 2.1, 2.2, 2.3, 2.4, 2.5, 2.6, 2.7, 2.8, 2.9, 3. , 3.1,\n",
       "       3.2, 3.3, 3.4, 3.5, 3.6, 3.7, 3.8, 3.9, 4. , 4.1, 4.2, 4.3, 4.4,\n",
       "       4.5, 4.6, 4.7, 4.8, 4.9])"
      ]
     },
     "execution_count": 35,
     "metadata": {},
     "output_type": "execute_result"
    }
   ],
   "source": [
    "data_cleaned['rate'] = data_cleaned['rate'].replace('-', np.NaN).replace('', np.NaN).astype(float)\n",
    "\n",
    "x = data_cleaned['rate']\n",
    "x.groupby(x).size().index.values"
   ]
  },
  {
   "cell_type": "markdown",
   "metadata": {},
   "source": [
    "#### book_table"
   ]
  },
  {
   "cell_type": "code",
   "execution_count": 36,
   "metadata": {},
   "outputs": [],
   "source": [
    "#data_cleaned['book_table'] = data_cleaned['book_table'].replace('Yes, No', 'No')\n",
    "data_cleaned['book_table'] = data_cleaned['book_table'].replace('Yes', 1).replace('No', 0).astype('bool')"
   ]
  },
  {
   "cell_type": "code",
   "execution_count": 37,
   "metadata": {},
   "outputs": [
    {
     "data": {
      "text/plain": [
       "book_table\n",
       "False    11558\n",
       "True       941\n",
       "Name: book_table, dtype: int64"
      ]
     },
     "execution_count": 37,
     "metadata": {},
     "output_type": "execute_result"
    }
   ],
   "source": [
    "x = data_cleaned['book_table']\n",
    "x.groupby(x).size().head()"
   ]
  },
  {
   "cell_type": "markdown",
   "metadata": {},
   "source": [
    "#### votes\n",
    "Different from Ratings, so more work needs to be done on that field."
   ]
  },
  {
   "cell_type": "code",
   "execution_count": 38,
   "metadata": {},
   "outputs": [],
   "source": [
    "data_cleaned['votes'] = data_cleaned['votes'].astype('int')"
   ]
  },
  {
   "cell_type": "code",
   "execution_count": 39,
   "metadata": {},
   "outputs": [
    {
     "data": {
      "text/plain": [
       "1199"
      ]
     },
     "execution_count": 39,
     "metadata": {},
     "output_type": "execute_result"
    }
   ],
   "source": [
    "x = data_cleaned['votes'].astype('int')\n",
    "len(x.groupby(x).size())"
   ]
  },
  {
   "cell_type": "code",
   "execution_count": 42,
   "metadata": {},
   "outputs": [
    {
     "data": {
      "text/plain": [
       "votes\n",
       "16345       1\n",
       "518         1\n",
       "1227        1\n",
       "1224        1\n",
       "526         1\n",
       "528         1\n",
       "530         1\n",
       "531         1\n",
       "532         1\n",
       "536         1\n",
       "         ... \n",
       "12        159\n",
       "5         162\n",
       "11        164\n",
       "9         167\n",
       "8         173\n",
       "10        189\n",
       "7         270\n",
       "6         293\n",
       "4         378\n",
       "0        3042\n",
       "Name: votes, Length: 1199, dtype: int64"
      ]
     },
     "execution_count": 42,
     "metadata": {},
     "output_type": "execute_result"
    }
   ],
   "source": [
    "x.groupby(x).size().sort_values()"
   ]
  },
  {
   "cell_type": "markdown",
   "metadata": {},
   "source": [
    "#### location\n",
    "Field has already been cleaned"
   ]
  },
  {
   "cell_type": "markdown",
   "metadata": {},
   "source": [
    "#### listed_in(city)\n",
    "Field has already been cleaned"
   ]
  },
  {
   "cell_type": "markdown",
   "metadata": {},
   "source": [
    "#### rest_type\n",
    "Field has already been cleaned"
   ]
  },
  {
   "cell_type": "markdown",
   "metadata": {},
   "source": [
    "#### dish_liked\n",
    "Field has been cleaned"
   ]
  },
  {
   "cell_type": "markdown",
   "metadata": {},
   "source": [
    "#### cuisines\n",
    "Field has been cleaned"
   ]
  },
  {
   "cell_type": "markdown",
   "metadata": {},
   "source": [
    "#### approx_cost(for two people)"
   ]
  },
  {
   "cell_type": "code",
   "execution_count": 43,
   "metadata": {},
   "outputs": [],
   "source": [
    "data_cleaned['approx_cost(for two people)'] = data_cleaned['approx_cost(for two people)'].astype('float')"
   ]
  },
  {
   "cell_type": "code",
   "execution_count": 44,
   "metadata": {},
   "outputs": [
    {
     "data": {
      "text/plain": [
       "approx_cost(for two people)\n",
       "330.0       1\n",
       "140.0       1\n",
       "130.0       1\n",
       "190.0       1\n",
       "560.0       1\n",
       "240.0       1\n",
       "469.0       1\n",
       "60.0        1\n",
       "40.0        1\n",
       "6.0         1\n",
       "         ... \n",
       "350.0     439\n",
       "800.0     456\n",
       "150.0     623\n",
       "1.0       802\n",
       "250.0     842\n",
       "600.0     852\n",
       "500.0    1273\n",
       "200.0    1406\n",
       "300.0    1905\n",
       "400.0    1909\n",
       "Name: approx_cost(for two people), Length: 40, dtype: int64"
      ]
     },
     "execution_count": 44,
     "metadata": {},
     "output_type": "execute_result"
    }
   ],
   "source": [
    "x = data_cleaned['approx_cost(for two people)'].astype('float')\n",
    "x.groupby(x).size().sort_values()"
   ]
  },
  {
   "cell_type": "code",
   "execution_count": 47,
   "metadata": {},
   "outputs": [],
   "source": [
    "# Review the Data\n",
    "data_cleaning_review(data_cleaned)"
   ]
  },
  {
   "cell_type": "code",
   "execution_count": 46,
   "metadata": {},
   "outputs": [],
   "source": [
    "data_cleaned.to_csv(\"zomato_cleaned.csv\")\n",
    "data_cleaned.drop('reviews_list', axis = 1).to_csv(\"zomato_cleaned_no_reviews.csv\")"
   ]
  },
  {
   "cell_type": "markdown",
   "metadata": {},
   "source": [
    "## Computer Readable Format Conversion (Not Working)"
   ]
  },
  {
   "cell_type": "code",
   "execution_count": 49,
   "metadata": {},
   "outputs": [
    {
     "data": {
      "text/plain": [
       "['name',\n",
       " 'address',\n",
       " 'online_order',\n",
       " 'book_table',\n",
       " 'rate',\n",
       " 'votes',\n",
       " 'location',\n",
       " 'rest_type',\n",
       " 'dish_liked',\n",
       " 'cuisines',\n",
       " 'approx_cost(for two people)',\n",
       " 'menu_item',\n",
       " 'listed_in(city)',\n",
       " 'listed_in(type)',\n",
       " 'url',\n",
       " 'reviews_list']"
      ]
     },
     "execution_count": 49,
     "metadata": {},
     "output_type": "execute_result"
    }
   ],
   "source": [
    "all_columns = data_cleaned.columns.tolist()\n",
    "all_columns"
   ]
  },
  {
   "cell_type": "code",
   "execution_count": 50,
   "metadata": {},
   "outputs": [
    {
     "data": {
      "text/plain": [
       "['name',\n",
       " 'address',\n",
       " 'online_order',\n",
       " 'book_table',\n",
       " 'rate',\n",
       " 'votes',\n",
       " 'location',\n",
       " 'approx_cost(for two people)',\n",
       " 'listed_in(city)',\n",
       " 'url',\n",
       " 'reviews_list']"
      ]
     },
     "execution_count": 50,
     "metadata": {},
     "output_type": "execute_result"
    }
   ],
   "source": [
    "non_categorical_fields = ['name','address','online_order','book_table','rate','votes','location','approx_cost(for two people)','listed_in(city)','url','reviews_list']\n",
    "non_categorical_fields"
   ]
  },
  {
   "cell_type": "code",
   "execution_count": 51,
   "metadata": {},
   "outputs": [
    {
     "data": {
      "text/plain": [
       "['listed_in(type)', 'menu_item', 'dish_liked', 'rest_type', 'cuisines']"
      ]
     },
     "execution_count": 51,
     "metadata": {},
     "output_type": "execute_result"
    }
   ],
   "source": [
    "categorical_fields = Diff(all_columns, non_categorical_fields)\n",
    "categorical_fields\n",
    "\n",
    "index_listed_in = categorical_fields.index(\"listed_in(type)\")\n",
    "\n",
    "categorical_fields[0], categorical_fields[index_listed_in] = categorical_fields[index_listed_in], categorical_fields[0]\n",
    "\n",
    "categorical_fields"
   ]
  },
  {
   "cell_type": "code",
   "execution_count": 52,
   "metadata": {},
   "outputs": [
    {
     "name": "stdout",
     "output_type": "stream",
     "text": [
      "12499\n"
     ]
    },
    {
     "data": {
      "text/html": [
       "<div>\n",
       "<style scoped>\n",
       "    .dataframe tbody tr th:only-of-type {\n",
       "        vertical-align: middle;\n",
       "    }\n",
       "\n",
       "    .dataframe tbody tr th {\n",
       "        vertical-align: top;\n",
       "    }\n",
       "\n",
       "    .dataframe thead th {\n",
       "        text-align: right;\n",
       "    }\n",
       "</style>\n",
       "<table border=\"1\" class=\"dataframe\">\n",
       "  <thead>\n",
       "    <tr style=\"text-align: right;\">\n",
       "      <th></th>\n",
       "      <th>name</th>\n",
       "      <th>address</th>\n",
       "      <th>online_order</th>\n",
       "      <th>book_table</th>\n",
       "      <th>rate</th>\n",
       "      <th>votes</th>\n",
       "      <th>location</th>\n",
       "      <th>approx_cost(for two people)</th>\n",
       "      <th>listed_in(city)</th>\n",
       "      <th>url</th>\n",
       "      <th>reviews_list</th>\n",
       "    </tr>\n",
       "  </thead>\n",
       "  <tbody>\n",
       "    <tr>\n",
       "      <th>0</th>\n",
       "      <td>#FeelTheROLL</td>\n",
       "      <td>Opposite Mantri Commercio, Outer Ring Road, De...</td>\n",
       "      <td>False</td>\n",
       "      <td>False</td>\n",
       "      <td>3.4</td>\n",
       "      <td>7</td>\n",
       "      <td>Bellandur</td>\n",
       "      <td>200.0</td>\n",
       "      <td>Sarjapur Road,Bellandur</td>\n",
       "      <td>https://www.zomato.com/bangalore/feeltheroll-b...</td>\n",
       "      <td>[('Rated 5.0', \"RATED\\n  Had an egg chicken ro...</td>\n",
       "    </tr>\n",
       "  </tbody>\n",
       "</table>\n",
       "</div>"
      ],
      "text/plain": [
       "           name                                            address  \\\n",
       "0  #FeelTheROLL  Opposite Mantri Commercio, Outer Ring Road, De...   \n",
       "\n",
       "   online_order  book_table  rate  votes   location  \\\n",
       "0         False       False   3.4      7  Bellandur   \n",
       "\n",
       "   approx_cost(for two people)          listed_in(city)  \\\n",
       "0                        200.0  Sarjapur Road,Bellandur   \n",
       "\n",
       "                                                 url  \\\n",
       "0  https://www.zomato.com/bangalore/feeltheroll-b...   \n",
       "\n",
       "                                        reviews_list  \n",
       "0  [('Rated 5.0', \"RATED\\n  Had an egg chicken ro...  "
      ]
     },
     "execution_count": 52,
     "metadata": {},
     "output_type": "execute_result"
    }
   ],
   "source": [
    "computer_readable_data_cleaned = data_cleaned[non_categorical_fields]\n",
    "print(len(computer_readable_data_cleaned))\n",
    "computer_readable_data_cleaned.head(1)"
   ]
  },
  {
   "cell_type": "code",
   "execution_count": 61,
   "metadata": {},
   "outputs": [
    {
     "data": {
      "text/plain": [
       "['listed_in(type)', 'menu_item', 'dish_liked', 'rest_type', 'cuisines']"
      ]
     },
     "execution_count": 61,
     "metadata": {},
     "output_type": "execute_result"
    }
   ],
   "source": [
    "categorical_fields"
   ]
  },
  {
   "cell_type": "code",
   "execution_count": 63,
   "metadata": {},
   "outputs": [
    {
     "name": "stdout",
     "output_type": "stream",
     "text": [
      "Processing listed_in(type)\n",
      "Processing menu_item\n"
     ]
    },
    {
     "ename": "KeyboardInterrupt",
     "evalue": "",
     "output_type": "error",
     "traceback": [
      "\u001b[0;31m---------------------------------------------------------------------------\u001b[0m",
      "\u001b[0;31mKeyboardInterrupt\u001b[0m                         Traceback (most recent call last)",
      "\u001b[0;32m<ipython-input-63-63d485bb5b67>\u001b[0m in \u001b[0;36m<module>\u001b[0;34m\u001b[0m\n\u001b[1;32m      6\u001b[0m \u001b[0;32mfor\u001b[0m \u001b[0mcolumn\u001b[0m \u001b[0;32min\u001b[0m \u001b[0mcategorical_fields\u001b[0m\u001b[0;34m:\u001b[0m\u001b[0;34m\u001b[0m\u001b[0;34m\u001b[0m\u001b[0m\n\u001b[1;32m      7\u001b[0m     \u001b[0mprint\u001b[0m\u001b[0;34m(\u001b[0m\u001b[0;34m'Processing'\u001b[0m\u001b[0;34m,\u001b[0m \u001b[0mcolumn\u001b[0m\u001b[0;34m)\u001b[0m\u001b[0;34m\u001b[0m\u001b[0;34m\u001b[0m\u001b[0m\n\u001b[0;32m----> 8\u001b[0;31m     column_one_hot_data = (data_cleaned[column].str.split('\\s*,\\s*', expand=True)\n\u001b[0m\u001b[1;32m      9\u001b[0m        \u001b[0;34m.\u001b[0m\u001b[0mstack\u001b[0m\u001b[0;34m(\u001b[0m\u001b[0;34m)\u001b[0m\u001b[0;34m\u001b[0m\u001b[0;34m\u001b[0m\u001b[0m\n\u001b[1;32m     10\u001b[0m        \u001b[0;34m.\u001b[0m\u001b[0mstr\u001b[0m\u001b[0;34m.\u001b[0m\u001b[0mget_dummies\u001b[0m\u001b[0;34m(\u001b[0m\u001b[0;34m)\u001b[0m\u001b[0;34m\u001b[0m\u001b[0;34m\u001b[0m\u001b[0m\n",
      "\u001b[0;32m/usr/local/lib/python3.7/site-packages/pandas/core/strings.py\u001b[0m in \u001b[0;36mget_dummies\u001b[0;34m(self, sep)\u001b[0m\n\u001b[1;32m   2749\u001b[0m         \u001b[0;31m# methods available for making the dummies...\u001b[0m\u001b[0;34m\u001b[0m\u001b[0;34m\u001b[0m\u001b[0;34m\u001b[0m\u001b[0m\n\u001b[1;32m   2750\u001b[0m         \u001b[0mdata\u001b[0m \u001b[0;34m=\u001b[0m \u001b[0mself\u001b[0m\u001b[0;34m.\u001b[0m\u001b[0m_orig\u001b[0m\u001b[0;34m.\u001b[0m\u001b[0mastype\u001b[0m\u001b[0;34m(\u001b[0m\u001b[0mstr\u001b[0m\u001b[0;34m)\u001b[0m \u001b[0;32mif\u001b[0m \u001b[0mself\u001b[0m\u001b[0;34m.\u001b[0m\u001b[0m_is_categorical\u001b[0m \u001b[0;32melse\u001b[0m \u001b[0mself\u001b[0m\u001b[0;34m.\u001b[0m\u001b[0m_parent\u001b[0m\u001b[0;34m\u001b[0m\u001b[0;34m\u001b[0m\u001b[0m\n\u001b[0;32m-> 2751\u001b[0;31m         \u001b[0mresult\u001b[0m\u001b[0;34m,\u001b[0m \u001b[0mname\u001b[0m \u001b[0;34m=\u001b[0m \u001b[0mstr_get_dummies\u001b[0m\u001b[0;34m(\u001b[0m\u001b[0mdata\u001b[0m\u001b[0;34m,\u001b[0m \u001b[0msep\u001b[0m\u001b[0;34m)\u001b[0m\u001b[0;34m\u001b[0m\u001b[0;34m\u001b[0m\u001b[0m\n\u001b[0m\u001b[1;32m   2752\u001b[0m         return self._wrap_result(result, use_codes=(not self._is_categorical),\n\u001b[1;32m   2753\u001b[0m                                  name=name, expand=True)\n",
      "\u001b[0;32m/usr/local/lib/python3.7/site-packages/pandas/core/strings.py\u001b[0m in \u001b[0;36mstr_get_dummies\u001b[0;34m(arr, sep)\u001b[0m\n\u001b[1;32m   1012\u001b[0m     \u001b[0;32mfor\u001b[0m \u001b[0mi\u001b[0m\u001b[0;34m,\u001b[0m \u001b[0mt\u001b[0m \u001b[0;32min\u001b[0m \u001b[0menumerate\u001b[0m\u001b[0;34m(\u001b[0m\u001b[0mtags\u001b[0m\u001b[0;34m)\u001b[0m\u001b[0;34m:\u001b[0m\u001b[0;34m\u001b[0m\u001b[0;34m\u001b[0m\u001b[0m\n\u001b[1;32m   1013\u001b[0m         \u001b[0mpat\u001b[0m \u001b[0;34m=\u001b[0m \u001b[0msep\u001b[0m \u001b[0;34m+\u001b[0m \u001b[0mt\u001b[0m \u001b[0;34m+\u001b[0m \u001b[0msep\u001b[0m\u001b[0;34m\u001b[0m\u001b[0;34m\u001b[0m\u001b[0m\n\u001b[0;32m-> 1014\u001b[0;31m         \u001b[0mdummies\u001b[0m\u001b[0;34m[\u001b[0m\u001b[0;34m:\u001b[0m\u001b[0;34m,\u001b[0m \u001b[0mi\u001b[0m\u001b[0;34m]\u001b[0m \u001b[0;34m=\u001b[0m \u001b[0mlib\u001b[0m\u001b[0;34m.\u001b[0m\u001b[0mmap_infer\u001b[0m\u001b[0;34m(\u001b[0m\u001b[0marr\u001b[0m\u001b[0;34m.\u001b[0m\u001b[0mvalues\u001b[0m\u001b[0;34m,\u001b[0m \u001b[0;32mlambda\u001b[0m \u001b[0mx\u001b[0m\u001b[0;34m:\u001b[0m \u001b[0mpat\u001b[0m \u001b[0;32min\u001b[0m \u001b[0mx\u001b[0m\u001b[0;34m)\u001b[0m\u001b[0;34m\u001b[0m\u001b[0;34m\u001b[0m\u001b[0m\n\u001b[0m\u001b[1;32m   1015\u001b[0m     \u001b[0;32mreturn\u001b[0m \u001b[0mdummies\u001b[0m\u001b[0;34m,\u001b[0m \u001b[0mtags\u001b[0m\u001b[0;34m\u001b[0m\u001b[0;34m\u001b[0m\u001b[0m\n\u001b[1;32m   1016\u001b[0m \u001b[0;34m\u001b[0m\u001b[0m\n",
      "\u001b[0;32mpandas/_libs/lib.pyx\u001b[0m in \u001b[0;36mpandas._libs.lib.map_infer\u001b[0;34m()\u001b[0m\n",
      "\u001b[0;32m/usr/local/lib/python3.7/site-packages/pandas/core/strings.py\u001b[0m in \u001b[0;36m<lambda>\u001b[0;34m(x)\u001b[0m\n\u001b[1;32m   1012\u001b[0m     \u001b[0;32mfor\u001b[0m \u001b[0mi\u001b[0m\u001b[0;34m,\u001b[0m \u001b[0mt\u001b[0m \u001b[0;32min\u001b[0m \u001b[0menumerate\u001b[0m\u001b[0;34m(\u001b[0m\u001b[0mtags\u001b[0m\u001b[0;34m)\u001b[0m\u001b[0;34m:\u001b[0m\u001b[0;34m\u001b[0m\u001b[0;34m\u001b[0m\u001b[0m\n\u001b[1;32m   1013\u001b[0m         \u001b[0mpat\u001b[0m \u001b[0;34m=\u001b[0m \u001b[0msep\u001b[0m \u001b[0;34m+\u001b[0m \u001b[0mt\u001b[0m \u001b[0;34m+\u001b[0m \u001b[0msep\u001b[0m\u001b[0;34m\u001b[0m\u001b[0;34m\u001b[0m\u001b[0m\n\u001b[0;32m-> 1014\u001b[0;31m         \u001b[0mdummies\u001b[0m\u001b[0;34m[\u001b[0m\u001b[0;34m:\u001b[0m\u001b[0;34m,\u001b[0m \u001b[0mi\u001b[0m\u001b[0;34m]\u001b[0m \u001b[0;34m=\u001b[0m \u001b[0mlib\u001b[0m\u001b[0;34m.\u001b[0m\u001b[0mmap_infer\u001b[0m\u001b[0;34m(\u001b[0m\u001b[0marr\u001b[0m\u001b[0;34m.\u001b[0m\u001b[0mvalues\u001b[0m\u001b[0;34m,\u001b[0m \u001b[0;32mlambda\u001b[0m \u001b[0mx\u001b[0m\u001b[0;34m:\u001b[0m \u001b[0mpat\u001b[0m \u001b[0;32min\u001b[0m \u001b[0mx\u001b[0m\u001b[0;34m)\u001b[0m\u001b[0;34m\u001b[0m\u001b[0;34m\u001b[0m\u001b[0m\n\u001b[0m\u001b[1;32m   1015\u001b[0m     \u001b[0;32mreturn\u001b[0m \u001b[0mdummies\u001b[0m\u001b[0;34m,\u001b[0m \u001b[0mtags\u001b[0m\u001b[0;34m\u001b[0m\u001b[0;34m\u001b[0m\u001b[0m\n\u001b[1;32m   1016\u001b[0m \u001b[0;34m\u001b[0m\u001b[0m\n",
      "\u001b[0;31mKeyboardInterrupt\u001b[0m: "
     ]
    }
   ],
   "source": [
    "# Script Below Did Not Resolve, very high computational cost\n",
    "\n",
    "computer_readable_files = list()\n",
    "#computer_readable_data_cleaned = computer_readable_data_cleaned[['name','address']]\n",
    "\n",
    "for column in categorical_fields:\n",
    "    print('Processing', column)\n",
    "    column_one_hot_data = (data_cleaned[column].str.split('\\s*,\\s*', expand=True)\n",
    "       .stack()\n",
    "       .str.get_dummies()\n",
    "       .sum(level=0).add_prefix(column + '_'))\n",
    "    column_one_hot_data = column_one_hot_data.fillna(0)\n",
    "    \n",
    "    # Trying to convert float 1.0 to 1, but didn't work\n",
    "    # column_one_hot_data.columns = column_one_hot_data.columns.str.strip()\n",
    "    # column_one_hot_data = column_one_hot_data.convert_dtypes()\n",
    "    \n",
    "    # computer_readable_data_cleaned = computer_readable_data_cleaned.join(column_one_hot_data)\n",
    "    # computer_readable_data_cleaned = computer_readable_data_cleaned.fillna(0)\n",
    "    \n",
    "    column_one_hot_data.to_csv(column + '.csv')"
   ]
  },
  {
   "cell_type": "code",
   "execution_count": null,
   "metadata": {},
   "outputs": [],
   "source": []
  },
  {
   "cell_type": "code",
   "execution_count": null,
   "metadata": {},
   "outputs": [],
   "source": [
    "listed_in_data = computer_readable_data_cleaned.copy(deep = True)"
   ]
  },
  {
   "cell_type": "code",
   "execution_count": 56,
   "metadata": {},
   "outputs": [
    {
     "data": {
      "text/html": [
       "<div>\n",
       "<style scoped>\n",
       "    .dataframe tbody tr th:only-of-type {\n",
       "        vertical-align: middle;\n",
       "    }\n",
       "\n",
       "    .dataframe tbody tr th {\n",
       "        vertical-align: top;\n",
       "    }\n",
       "\n",
       "    .dataframe thead th {\n",
       "        text-align: right;\n",
       "    }\n",
       "</style>\n",
       "<table border=\"1\" class=\"dataframe\">\n",
       "  <thead>\n",
       "    <tr style=\"text-align: right;\">\n",
       "      <th></th>\n",
       "      <th>name</th>\n",
       "      <th>address</th>\n",
       "      <th>listed_in(type)_Buffet</th>\n",
       "      <th>listed_in(type)_Cafes</th>\n",
       "      <th>listed_in(type)_Delivery</th>\n",
       "      <th>listed_in(type)_Desserts</th>\n",
       "      <th>listed_in(type)_Dine-out</th>\n",
       "      <th>listed_in(type)_Drinks &amp; nightlife</th>\n",
       "      <th>listed_in(type)_Pubs and bars</th>\n",
       "    </tr>\n",
       "  </thead>\n",
       "  <tbody>\n",
       "    <tr>\n",
       "      <th>0</th>\n",
       "      <td>#FeelTheROLL</td>\n",
       "      <td>Opposite Mantri Commercio, Outer Ring Road, De...</td>\n",
       "      <td>0</td>\n",
       "      <td>0</td>\n",
       "      <td>1</td>\n",
       "      <td>0</td>\n",
       "      <td>0</td>\n",
       "      <td>0</td>\n",
       "      <td>0</td>\n",
       "    </tr>\n",
       "    <tr>\n",
       "      <th>2</th>\n",
       "      <td>#L-81 Cafe</td>\n",
       "      <td>Sector 6, HSR Layout, HSR</td>\n",
       "      <td>0</td>\n",
       "      <td>0</td>\n",
       "      <td>1</td>\n",
       "      <td>0</td>\n",
       "      <td>1</td>\n",
       "      <td>0</td>\n",
       "      <td>0</td>\n",
       "    </tr>\n",
       "    <tr>\n",
       "      <th>11</th>\n",
       "      <td>#Vibes Restro</td>\n",
       "      <td>Marasur Gate, Chandapura - Anekal Road, Near A...</td>\n",
       "      <td>1</td>\n",
       "      <td>0</td>\n",
       "      <td>1</td>\n",
       "      <td>0</td>\n",
       "      <td>1</td>\n",
       "      <td>0</td>\n",
       "      <td>0</td>\n",
       "    </tr>\n",
       "    <tr>\n",
       "      <th>14</th>\n",
       "      <td>#refuel</td>\n",
       "      <td>7, Ground Floor, RR Commercial Complex, Akshay...</td>\n",
       "      <td>0</td>\n",
       "      <td>1</td>\n",
       "      <td>1</td>\n",
       "      <td>0</td>\n",
       "      <td>1</td>\n",
       "      <td>0</td>\n",
       "      <td>0</td>\n",
       "    </tr>\n",
       "    <tr>\n",
       "      <th>17</th>\n",
       "      <td>'Brahmins' Thatte Idli</td>\n",
       "      <td>19, 1st main, 2nd cross, 3rd stage, 3rd block,...</td>\n",
       "      <td>0</td>\n",
       "      <td>0</td>\n",
       "      <td>0</td>\n",
       "      <td>0</td>\n",
       "      <td>1</td>\n",
       "      <td>0</td>\n",
       "      <td>0</td>\n",
       "    </tr>\n",
       "    <tr>\n",
       "      <th>18</th>\n",
       "      <td>1 Fahreheit</td>\n",
       "      <td>Nishika Arcade, Nanjappa Main Road, Next to Jo...</td>\n",
       "      <td>0</td>\n",
       "      <td>0</td>\n",
       "      <td>0</td>\n",
       "      <td>1</td>\n",
       "      <td>0</td>\n",
       "      <td>0</td>\n",
       "      <td>0</td>\n",
       "    </tr>\n",
       "    <tr>\n",
       "      <th>19</th>\n",
       "      <td>1000 B.C</td>\n",
       "      <td>16, 17th A Main, Koramangala 5th Block, Bangalore</td>\n",
       "      <td>0</td>\n",
       "      <td>0</td>\n",
       "      <td>1</td>\n",
       "      <td>0</td>\n",
       "      <td>0</td>\n",
       "      <td>0</td>\n",
       "      <td>0</td>\n",
       "    </tr>\n",
       "    <tr>\n",
       "      <th>25</th>\n",
       "      <td>100ÃÂÃÂÃÂÃÂÃÂÃÂÃÂÃÂ°C</td>\n",
       "      <td>688, Thanish Corner, 7th Main, 10th Cross, 2nd...</td>\n",
       "      <td>0</td>\n",
       "      <td>0</td>\n",
       "      <td>0</td>\n",
       "      <td>0</td>\n",
       "      <td>1</td>\n",
       "      <td>0</td>\n",
       "      <td>0</td>\n",
       "    </tr>\n",
       "    <tr>\n",
       "      <th>28</th>\n",
       "      <td>11 to 11 Express Biriyanis</td>\n",
       "      <td>Near Velankani Bus Stop, Electroniccity Phase ...</td>\n",
       "      <td>0</td>\n",
       "      <td>0</td>\n",
       "      <td>1</td>\n",
       "      <td>0</td>\n",
       "      <td>1</td>\n",
       "      <td>0</td>\n",
       "      <td>0</td>\n",
       "    </tr>\n",
       "    <tr>\n",
       "      <th>30</th>\n",
       "      <td>1131 Bar + Kitchen</td>\n",
       "      <td>100 Feet Road, HAL 2nd Stage, Indiranagar, Ban...</td>\n",
       "      <td>0</td>\n",
       "      <td>0</td>\n",
       "      <td>0</td>\n",
       "      <td>0</td>\n",
       "      <td>1</td>\n",
       "      <td>1</td>\n",
       "      <td>1</td>\n",
       "    </tr>\n",
       "    <tr>\n",
       "      <th>...</th>\n",
       "      <td>...</td>\n",
       "      <td>...</td>\n",
       "      <td>...</td>\n",
       "      <td>...</td>\n",
       "      <td>...</td>\n",
       "      <td>...</td>\n",
       "      <td>...</td>\n",
       "      <td>...</td>\n",
       "      <td>...</td>\n",
       "    </tr>\n",
       "    <tr>\n",
       "      <th>51683</th>\n",
       "      <td>iFruit Live Ice Creams</td>\n",
       "      <td>South/9, Ground FLoor, 7th Main, 80 Feet Road,...</td>\n",
       "      <td>0</td>\n",
       "      <td>0</td>\n",
       "      <td>0</td>\n",
       "      <td>1</td>\n",
       "      <td>0</td>\n",
       "      <td>0</td>\n",
       "      <td>0</td>\n",
       "    </tr>\n",
       "    <tr>\n",
       "      <th>51687</th>\n",
       "      <td>iSpice Resto Cafe</td>\n",
       "      <td>115,18th Main Road, Indiranagar, Bangalore</td>\n",
       "      <td>0</td>\n",
       "      <td>1</td>\n",
       "      <td>1</td>\n",
       "      <td>0</td>\n",
       "      <td>1</td>\n",
       "      <td>0</td>\n",
       "      <td>0</td>\n",
       "    </tr>\n",
       "    <tr>\n",
       "      <th>51694</th>\n",
       "      <td>late100</td>\n",
       "      <td>Near Tavakere Bus Stop, BTM, Bangalore</td>\n",
       "      <td>0</td>\n",
       "      <td>0</td>\n",
       "      <td>1</td>\n",
       "      <td>0</td>\n",
       "      <td>0</td>\n",
       "      <td>0</td>\n",
       "      <td>0</td>\n",
       "    </tr>\n",
       "    <tr>\n",
       "      <th>51699</th>\n",
       "      <td>nu.tree</td>\n",
       "      <td>12th Floor, Gamma Building, Sigma Soft Tech Pa...</td>\n",
       "      <td>0</td>\n",
       "      <td>0</td>\n",
       "      <td>0</td>\n",
       "      <td>0</td>\n",
       "      <td>1</td>\n",
       "      <td>0</td>\n",
       "      <td>0</td>\n",
       "    </tr>\n",
       "    <tr>\n",
       "      <th>51700</th>\n",
       "      <td>nu.tree</td>\n",
       "      <td>36 Aarush, Sri Balaji Layout, Ambulipura, Sarj...</td>\n",
       "      <td>0</td>\n",
       "      <td>0</td>\n",
       "      <td>1</td>\n",
       "      <td>0</td>\n",
       "      <td>0</td>\n",
       "      <td>0</td>\n",
       "      <td>0</td>\n",
       "    </tr>\n",
       "    <tr>\n",
       "      <th>51703</th>\n",
       "      <td>nu.tree</td>\n",
       "      <td>47/7 First floor, DoddaThogur Road, Near Velan...</td>\n",
       "      <td>0</td>\n",
       "      <td>0</td>\n",
       "      <td>1</td>\n",
       "      <td>0</td>\n",
       "      <td>0</td>\n",
       "      <td>0</td>\n",
       "      <td>0</td>\n",
       "    </tr>\n",
       "    <tr>\n",
       "      <th>51704</th>\n",
       "      <td>nu.tree</td>\n",
       "      <td>Ground Floor-Lobby Area, Brigade IRV Centre, N...</td>\n",
       "      <td>0</td>\n",
       "      <td>0</td>\n",
       "      <td>1</td>\n",
       "      <td>0</td>\n",
       "      <td>0</td>\n",
       "      <td>0</td>\n",
       "      <td>0</td>\n",
       "    </tr>\n",
       "    <tr>\n",
       "      <th>51707</th>\n",
       "      <td>re:cess - Hilton Bangalore Embassy GolfLinks</td>\n",
       "      <td>Hilton Bangalore Embassy GolfLinks, Embassy Go...</td>\n",
       "      <td>0</td>\n",
       "      <td>0</td>\n",
       "      <td>0</td>\n",
       "      <td>0</td>\n",
       "      <td>1</td>\n",
       "      <td>0</td>\n",
       "      <td>1</td>\n",
       "    </tr>\n",
       "    <tr>\n",
       "      <th>51710</th>\n",
       "      <td>repEAT Hub</td>\n",
       "      <td>67/4, Bhoganahalli Road, JCR Layout, Panathur,...</td>\n",
       "      <td>0</td>\n",
       "      <td>0</td>\n",
       "      <td>1</td>\n",
       "      <td>0</td>\n",
       "      <td>1</td>\n",
       "      <td>0</td>\n",
       "      <td>0</td>\n",
       "    </tr>\n",
       "    <tr>\n",
       "      <th>51712</th>\n",
       "      <td>sCoolMeal</td>\n",
       "      <td>197/293-3, 32nd Main, 1st Stage, BTM, Bangalore</td>\n",
       "      <td>0</td>\n",
       "      <td>0</td>\n",
       "      <td>1</td>\n",
       "      <td>0</td>\n",
       "      <td>0</td>\n",
       "      <td>0</td>\n",
       "      <td>0</td>\n",
       "    </tr>\n",
       "  </tbody>\n",
       "</table>\n",
       "<p>12499 rows × 9 columns</p>\n",
       "</div>"
      ],
      "text/plain": [
       "                                               name  \\\n",
       "0                                      #FeelTheROLL   \n",
       "2                                        #L-81 Cafe   \n",
       "11                                    #Vibes Restro   \n",
       "14                                          #refuel   \n",
       "17                           'Brahmins' Thatte Idli   \n",
       "18                                      1 Fahreheit   \n",
       "19                                         1000 B.C   \n",
       "25             100ÃÂÃÂÃÂÃÂÃÂÃÂÃÂÃÂ°C   \n",
       "28                       11 to 11 Express Biriyanis   \n",
       "30                               1131 Bar + Kitchen   \n",
       "...                                             ...   \n",
       "51683                        iFruit Live Ice Creams   \n",
       "51687                             iSpice Resto Cafe   \n",
       "51694                                       late100   \n",
       "51699                                       nu.tree   \n",
       "51700                                       nu.tree   \n",
       "51703                                       nu.tree   \n",
       "51704                                       nu.tree   \n",
       "51707  re:cess - Hilton Bangalore Embassy GolfLinks   \n",
       "51710                                    repEAT Hub   \n",
       "51712                                     sCoolMeal   \n",
       "\n",
       "                                                 address  \\\n",
       "0      Opposite Mantri Commercio, Outer Ring Road, De...   \n",
       "2                              Sector 6, HSR Layout, HSR   \n",
       "11     Marasur Gate, Chandapura - Anekal Road, Near A...   \n",
       "14     7, Ground Floor, RR Commercial Complex, Akshay...   \n",
       "17     19, 1st main, 2nd cross, 3rd stage, 3rd block,...   \n",
       "18     Nishika Arcade, Nanjappa Main Road, Next to Jo...   \n",
       "19     16, 17th A Main, Koramangala 5th Block, Bangalore   \n",
       "25     688, Thanish Corner, 7th Main, 10th Cross, 2nd...   \n",
       "28     Near Velankani Bus Stop, Electroniccity Phase ...   \n",
       "30     100 Feet Road, HAL 2nd Stage, Indiranagar, Ban...   \n",
       "...                                                  ...   \n",
       "51683  South/9, Ground FLoor, 7th Main, 80 Feet Road,...   \n",
       "51687         115,18th Main Road, Indiranagar, Bangalore   \n",
       "51694             Near Tavakere Bus Stop, BTM, Bangalore   \n",
       "51699  12th Floor, Gamma Building, Sigma Soft Tech Pa...   \n",
       "51700  36 Aarush, Sri Balaji Layout, Ambulipura, Sarj...   \n",
       "51703  47/7 First floor, DoddaThogur Road, Near Velan...   \n",
       "51704  Ground Floor-Lobby Area, Brigade IRV Centre, N...   \n",
       "51707  Hilton Bangalore Embassy GolfLinks, Embassy Go...   \n",
       "51710  67/4, Bhoganahalli Road, JCR Layout, Panathur,...   \n",
       "51712    197/293-3, 32nd Main, 1st Stage, BTM, Bangalore   \n",
       "\n",
       "       listed_in(type)_Buffet  listed_in(type)_Cafes  \\\n",
       "0                           0                      0   \n",
       "2                           0                      0   \n",
       "11                          1                      0   \n",
       "14                          0                      1   \n",
       "17                          0                      0   \n",
       "18                          0                      0   \n",
       "19                          0                      0   \n",
       "25                          0                      0   \n",
       "28                          0                      0   \n",
       "30                          0                      0   \n",
       "...                       ...                    ...   \n",
       "51683                       0                      0   \n",
       "51687                       0                      1   \n",
       "51694                       0                      0   \n",
       "51699                       0                      0   \n",
       "51700                       0                      0   \n",
       "51703                       0                      0   \n",
       "51704                       0                      0   \n",
       "51707                       0                      0   \n",
       "51710                       0                      0   \n",
       "51712                       0                      0   \n",
       "\n",
       "       listed_in(type)_Delivery  listed_in(type)_Desserts  \\\n",
       "0                             1                         0   \n",
       "2                             1                         0   \n",
       "11                            1                         0   \n",
       "14                            1                         0   \n",
       "17                            0                         0   \n",
       "18                            0                         1   \n",
       "19                            1                         0   \n",
       "25                            0                         0   \n",
       "28                            1                         0   \n",
       "30                            0                         0   \n",
       "...                         ...                       ...   \n",
       "51683                         0                         1   \n",
       "51687                         1                         0   \n",
       "51694                         1                         0   \n",
       "51699                         0                         0   \n",
       "51700                         1                         0   \n",
       "51703                         1                         0   \n",
       "51704                         1                         0   \n",
       "51707                         0                         0   \n",
       "51710                         1                         0   \n",
       "51712                         1                         0   \n",
       "\n",
       "       listed_in(type)_Dine-out  listed_in(type)_Drinks & nightlife  \\\n",
       "0                             0                                   0   \n",
       "2                             1                                   0   \n",
       "11                            1                                   0   \n",
       "14                            1                                   0   \n",
       "17                            1                                   0   \n",
       "18                            0                                   0   \n",
       "19                            0                                   0   \n",
       "25                            1                                   0   \n",
       "28                            1                                   0   \n",
       "30                            1                                   1   \n",
       "...                         ...                                 ...   \n",
       "51683                         0                                   0   \n",
       "51687                         1                                   0   \n",
       "51694                         0                                   0   \n",
       "51699                         1                                   0   \n",
       "51700                         0                                   0   \n",
       "51703                         0                                   0   \n",
       "51704                         0                                   0   \n",
       "51707                         1                                   0   \n",
       "51710                         1                                   0   \n",
       "51712                         0                                   0   \n",
       "\n",
       "       listed_in(type)_Pubs and bars  \n",
       "0                                  0  \n",
       "2                                  0  \n",
       "11                                 0  \n",
       "14                                 0  \n",
       "17                                 0  \n",
       "18                                 0  \n",
       "19                                 0  \n",
       "25                                 0  \n",
       "28                                 0  \n",
       "30                                 1  \n",
       "...                              ...  \n",
       "51683                              0  \n",
       "51687                              0  \n",
       "51694                              0  \n",
       "51699                              0  \n",
       "51700                              0  \n",
       "51703                              0  \n",
       "51704                              0  \n",
       "51707                              1  \n",
       "51710                              0  \n",
       "51712                              0  \n",
       "\n",
       "[12499 rows x 9 columns]"
      ]
     },
     "execution_count": 56,
     "metadata": {},
     "output_type": "execute_result"
    }
   ],
   "source": [
    "listed_in_data"
   ]
  },
  {
   "cell_type": "code",
   "execution_count": null,
   "metadata": {},
   "outputs": [],
   "source": []
  }
 ],
 "metadata": {
  "kernelspec": {
   "display_name": "Python 3",
   "language": "python",
   "name": "python3"
  },
  "language_info": {
   "codemirror_mode": {
    "name": "ipython",
    "version": 3
   },
   "file_extension": ".py",
   "mimetype": "text/x-python",
   "name": "python",
   "nbconvert_exporter": "python",
   "pygments_lexer": "ipython3",
   "version": "3.7.3"
  },
  "toc": {
   "base_numbering": 1,
   "nav_menu": {},
   "number_sections": true,
   "sideBar": true,
   "skip_h1_title": false,
   "title_cell": "Table of Contents",
   "title_sidebar": "Contents",
   "toc_cell": false,
   "toc_position": {},
   "toc_section_display": true,
   "toc_window_display": false
  }
 },
 "nbformat": 4,
 "nbformat_minor": 2
}
